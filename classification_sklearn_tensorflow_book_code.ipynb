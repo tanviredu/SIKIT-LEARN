{
  "nbformat": 4,
  "nbformat_minor": 0,
  "metadata": {
    "colab": {
      "name": "classification_sklearn_tensorflow_book_code.ipynb",
      "version": "0.3.2",
      "provenance": [],
      "collapsed_sections": []
    },
    "kernelspec": {
      "name": "python3",
      "display_name": "Python 3"
    }
  },
  "cells": [
    {
      "cell_type": "code",
      "metadata": {
        "id": "1Rx3hqOHZp7c",
        "colab_type": "code",
        "colab": {}
      },
      "source": [
        "from sklearn.datasets import fetch_openml"
      ],
      "execution_count": 0,
      "outputs": []
    },
    {
      "cell_type": "code",
      "metadata": {
        "id": "aW4cnh4naaKt",
        "colab_type": "code",
        "colab": {}
      },
      "source": [
        "mnist = fetch_openml('mnist_784')"
      ],
      "execution_count": 0,
      "outputs": []
    },
    {
      "cell_type": "code",
      "metadata": {
        "id": "hWBLkV_VagHz",
        "colab_type": "code",
        "colab": {}
      },
      "source": [
        "## ectracting data\n",
        "X,y = mnist['data'],mnist['target']"
      ],
      "execution_count": 0,
      "outputs": []
    },
    {
      "cell_type": "code",
      "metadata": {
        "id": "rReC2HyXa6zY",
        "colab_type": "code",
        "colab": {}
      },
      "source": [
        "import matplotlib.pyplot as plt"
      ],
      "execution_count": 0,
      "outputs": []
    },
    {
      "cell_type": "code",
      "metadata": {
        "id": "IfzgW9YwbNEb",
        "colab_type": "code",
        "colab": {
          "base_uri": "https://localhost:8080/",
          "height": 53
        },
        "outputId": "9cdf7027-9b1a-4132-e105-4d25a658391e"
      },
      "source": [
        "print (X.shape)\n",
        "print (y.shape)"
      ],
      "execution_count": 5,
      "outputs": [
        {
          "output_type": "stream",
          "text": [
            "(70000, 784)\n",
            "(70000,)\n"
          ],
          "name": "stdout"
        }
      ]
    },
    {
      "cell_type": "code",
      "metadata": {
        "id": "nftwM2EXbRwz",
        "colab_type": "code",
        "colab": {
          "base_uri": "https://localhost:8080/",
          "height": 287
        },
        "outputId": "050b450c-f5ef-4688-cfcd-7b71def31e4d"
      },
      "source": [
        "plt.gray()\n",
        "plt.imshow(X[0].reshape(28,28))\n",
        "print (y[0])"
      ],
      "execution_count": 6,
      "outputs": [
        {
          "output_type": "stream",
          "text": [
            "5\n"
          ],
          "name": "stdout"
        },
        {
          "output_type": "display_data",
          "data": {
            "image/png": "[encoded data removed]",
            "text/plain": [
              "<Figure size 432x288 with 1 Axes>"
            ]
          },
          "metadata": {
            "tags": []
          }
        }
      ]
    },
    {
      "cell_type": "code",
      "metadata": {
        "id": "JGnwwumJblw4",
        "colab_type": "code",
        "colab": {}
      },
      "source": [
        "#from sklearn.model_selection import train_test_split\n",
        "#x_train,x_test,y_train,y_test = train_test_split(X,y)\n",
        "\n",
        "x_train,x_test,y_train,y_test = X[:6000],X[6000:],y[:6000],y[6000:]\n"
      ],
      "execution_count": 0,
      "outputs": []
    },
    {
      "cell_type": "code",
      "metadata": {
        "id": "qmIkETI9cLQg",
        "colab_type": "code",
        "colab": {}
      },
      "source": [
        "# shuffle the data\n",
        "import numpy as np\n",
        "\n",
        "suffle_index = np.random.permutation(6000)\n",
        "x_train,y_train=x_train[suffle_index],y_train[suffle_index]"
      ],
      "execution_count": 0,
      "outputs": []
    },
    {
      "cell_type": "code",
      "metadata": {
        "id": "pkhF-Nrbcs7x",
        "colab_type": "code",
        "colab": {}
      },
      "source": [
        "## testing a  binary classifier\n",
        "y_train_5 = (y_train==5)\n",
        "y_test_5 = (y_test==5)"
      ],
      "execution_count": 0,
      "outputs": []
    },
    {
      "cell_type": "code",
      "metadata": {
        "id": "byPLNS3Lc8sw",
        "colab_type": "code",
        "colab": {
          "base_uri": "https://localhost:8080/",
          "height": 124
        },
        "outputId": "ff36ead6-f116-4372-cd3d-3b9db2a3d562"
      },
      "source": [
        "from sklearn.linear_model import SGDClassifier\n",
        "sgd_clf = SGDClassifier()\n",
        "sgd_clf.fit(x_train,y_train)"
      ],
      "execution_count": 10,
      "outputs": [
        {
          "output_type": "execute_result",
          "data": {
            "text/plain": [
              "SGDClassifier(alpha=0.0001, average=False, class_weight=None,\n",
              "              early_stopping=False, epsilon=0.1, eta0=0.0, fit_intercept=True,\n",
              "              l1_ratio=0.15, learning_rate='optimal', loss='hinge',\n",
              "              max_iter=1000, n_iter_no_change=5, n_jobs=None, penalty='l2',\n",
              "              power_t=0.5, random_state=None, shuffle=True, tol=0.001,\n",
              "              validation_fraction=0.1, verbose=0, warm_start=False)"
            ]
          },
          "metadata": {
            "tags": []
          },
          "execution_count": 10
        }
      ]
    },
    {
      "cell_type": "code",
      "metadata": {
        "id": "FH23YSLvd78O",
        "colab_type": "code",
        "colab": {
          "base_uri": "https://localhost:8080/",
          "height": 287
        },
        "outputId": "58da39f7-fe9a-4188-e430-998534768a80"
      },
      "source": [
        "pred=(sgd_clf.predict(x_test))\n",
        "plt.imshow(x_test[0].reshape(28,28))"
      ],
      "execution_count": 11,
      "outputs": [
        {
          "output_type": "execute_result",
          "data": {
            "text/plain": [
              "<matplotlib.image.AxesImage at 0x7fbd4b73d9b0>"
            ]
          },
          "metadata": {
            "tags": []
          },
          "execution_count": 11
        },
        {
          "output_type": "display_data",
          "data": {
            "image/png": "[encoded data removed]",
            "text/plain": [
              "<Figure size 432x288 with 1 Axes>"
            ]
          },
          "metadata": {
            "tags": []
          }
        }
      ]
    },
    {
      "cell_type": "code",
      "metadata": {
        "id": "BjSYm_uKen4q",
        "colab_type": "code",
        "colab": {}
      },
      "source": [
        "##measuring accuracy with cross validation\n",
        "from sklearn.model_selection import StratifiedKFold\n",
        "from sklearn.base import clone"
      ],
      "execution_count": 0,
      "outputs": []
    },
    {
      "cell_type": "code",
      "metadata": {
        "id": "0BCEZQfHhURL",
        "colab_type": "code",
        "colab": {
          "base_uri": "https://localhost:8080/",
          "height": 71
        },
        "outputId": "d01a2280-5346-401d-e961-761ca48df9de"
      },
      "source": [
        "## fold it to three\n",
        "skfolds = StratifiedKFold(n_splits=3,random_state=42)\n",
        "\n",
        "for train_index,test_index in skfolds.split(x_train,y_train):\n",
        "  ## skfolds split the trin and test index\n",
        "  \n",
        "  ## split the train data even more\n",
        "  clone_clf = clone(sgd_clf)\n",
        "  x_train_folds = x_train[train_index]\n",
        "  y_train_folds = (y_train[train_index])  \n",
        "  x_test_folds = x_train[test_index]  \n",
        "  y_test_folds = (y_train[test_index])\n",
        "  clone_clf.fit(x_train_folds,y_train_folds)\n",
        "  y_pred=clone_clf.predict(x_test_folds)\n",
        "  correct_ans = sum(y_pred==y_test_folds)\n",
        "  print('Percentage accuracy: '+str(float(correct_ans/len(y_pred))))"
      ],
      "execution_count": 13,
      "outputs": [
        {
          "output_type": "stream",
          "text": [
            "Percentage accuracy: 0.8587824351297405\n",
            "Percentage accuracy: 0.8735632183908046\n",
            "Percentage accuracy: 0.8776942355889724\n"
          ],
          "name": "stdout"
        }
      ]
    },
    {
      "cell_type": "code",
      "metadata": {
        "id": "3ts6qrKJkLZy",
        "colab_type": "code",
        "colab": {}
      },
      "source": [
        "## do it with the corss val score\n",
        "from sklearn.model_selection import cross_val_score"
      ],
      "execution_count": 0,
      "outputs": []
    },
    {
      "cell_type": "code",
      "metadata": {
        "id": "u156iM1QmxBc",
        "colab_type": "code",
        "colab": {
          "base_uri": "https://localhost:8080/",
          "height": 53
        },
        "outputId": "ba4673d5-cf7f-4acc-e704-9434c941f562"
      },
      "source": [
        "cross_val_score(sgd_clf,x_train,y_train,cv=10,scoring='accuracy')"
      ],
      "execution_count": 15,
      "outputs": [
        {
          "output_type": "execute_result",
          "data": {
            "text/plain": [
              "array([0.8583196 , 0.86710963, 0.84858569, 0.83166667, 0.88814691,\n",
              "       0.84474124, 0.86143573, 0.87312187, 0.89447236, 0.88107203])"
            ]
          },
          "metadata": {
            "tags": []
          },
          "execution_count": 15
        }
      ]
    },
    {
      "cell_type": "code",
      "metadata": {
        "id": "x0R9BWISm8kb",
        "colab_type": "code",
        "colab": {}
      },
      "source": [
        "## maing the confusion matrix\n",
        "from sklearn.metrics import confusion_matrix"
      ],
      "execution_count": 0,
      "outputs": []
    },
    {
      "cell_type": "code",
      "metadata": {
        "id": "D0kHrf9-ndGw",
        "colab_type": "code",
        "colab": {}
      },
      "source": [
        "cm=confusion_matrix(y_test,pred)"
      ],
      "execution_count": 0,
      "outputs": []
    },
    {
      "cell_type": "code",
      "metadata": {
        "id": "OtsutpkKnpip",
        "colab_type": "code",
        "colab": {
          "base_uri": "https://localhost:8080/",
          "height": 293
        },
        "outputId": "7cd723b5-5555-4492-e3f8-5ab7e3595da3"
      },
      "source": [
        "plt.matshow(cm,cmap=plt.cm.gray)"
      ],
      "execution_count": 18,
      "outputs": [
        {
          "output_type": "execute_result",
          "data": {
            "text/plain": [
              "<matplotlib.image.AxesImage at 0x7fbd5029dcf8>"
            ]
          },
          "metadata": {
            "tags": []
          },
          "execution_count": 18
        },
        {
          "output_type": "display_data",
          "data": {
            "image/png": "[encoded data removed]",
            "text/plain": [
              "<Figure size 288x288 with 1 Axes>"
            ]
          },
          "metadata": {
            "tags": []
          }
        }
      ]
    },
    {
      "cell_type": "code",
      "metadata": {
        "id": "dhc8ApNAoC9y",
        "colab_type": "code",
        "colab": {}
      },
      "source": [
        "### find the precission and recall\n",
        "# precision \n",
        "from sklearn.metrics import precision_score,recall_score,roc_curve,f1_score"
      ],
      "execution_count": 0,
      "outputs": []
    },
    {
      "cell_type": "code",
      "metadata": {
        "id": "b-9QTXaVo_ky",
        "colab_type": "code",
        "colab": {
          "base_uri": "https://localhost:8080/",
          "height": 71
        },
        "outputId": "c291ec80-9b38-475c-8589-2d6c831056ce"
      },
      "source": [
        "print(precision_score(y_test,pred,average='macro'))\n",
        "print(recall_score(y_test,pred,average='macro'))\n",
        "print(f1_score(y_test,pred,average='macro'))\n",
        "\n",
        "sgd_clf.fit(x_train,y_train)\n"
      ],
      "execution_count": 20,
      "outputs": [
        {
          "output_type": "stream",
          "text": [
            "0.8604889349494689\n",
            "0.857416540493946\n",
            "0.8559324075394062\n"
          ],
          "name": "stdout"
        }
      ]
    },
    {
      "cell_type": "code",
      "metadata": {
        "id": "20qWSGzNpRxV",
        "colab_type": "code",
        "colab": {}
      },
      "source": [
        "## see the result after normalizting\n",
        "from sklearn.preprocessing import StandardScaler"
      ],
      "execution_count": 0,
      "outputs": []
    },
    {
      "cell_type": "code",
      "metadata": {
        "id": "r3gJehuYqUbS",
        "colab_type": "code",
        "colab": {}
      },
      "source": [
        "scaler = StandardScaler()"
      ],
      "execution_count": 0,
      "outputs": []
    },
    {
      "cell_type": "code",
      "metadata": {
        "id": "tdzhRI2QqfV4",
        "colab_type": "code",
        "colab": {}
      },
      "source": [
        "x_train_scaler = scaler.fit_transform(x_train)\n",
        "x_test_scaler = scaler.fit_transform(x_test)"
      ],
      "execution_count": 0,
      "outputs": []
    },
    {
      "cell_type": "code",
      "metadata": {
        "id": "WGnr5HLyqlt4",
        "colab_type": "code",
        "colab": {
          "base_uri": "https://localhost:8080/",
          "height": 124
        },
        "outputId": "d2706362-e94f-481f-b302-27fb5e6f7f6c"
      },
      "source": [
        "sgd_clf = SGDClassifier()\n",
        "sgd_clf.fit(x_train_scaler,y_train)"
      ],
      "execution_count": 24,
      "outputs": [
        {
          "output_type": "execute_result",
          "data": {
            "text/plain": [
              "SGDClassifier(alpha=0.0001, average=False, class_weight=None,\n",
              "              early_stopping=False, epsilon=0.1, eta0=0.0, fit_intercept=True,\n",
              "              l1_ratio=0.15, learning_rate='optimal', loss='hinge',\n",
              "              max_iter=1000, n_iter_no_change=5, n_jobs=None, penalty='l2',\n",
              "              power_t=0.5, random_state=None, shuffle=True, tol=0.001,\n",
              "              validation_fraction=0.1, verbose=0, warm_start=False)"
            ]
          },
          "metadata": {
            "tags": []
          },
          "execution_count": 24
        }
      ]
    },
    {
      "cell_type": "code",
      "metadata": {
        "id": "iD6Hg6Vzqy9c",
        "colab_type": "code",
        "colab": {
          "base_uri": "https://localhost:8080/",
          "height": 287
        },
        "outputId": "53ad5fe0-d3cb-404a-d029-f1dd4dd57e4e"
      },
      "source": [
        "pred=(sgd_clf.predict(x_test_scaler))\n",
        "plt.imshow(x_test_scaler[0].reshape(28,28))"
      ],
      "execution_count": 25,
      "outputs": [
        {
          "output_type": "execute_result",
          "data": {
            "text/plain": [
              "<matplotlib.image.AxesImage at 0x7fbd4b6b9080>"
            ]
          },
          "metadata": {
            "tags": []
          },
          "execution_count": 25
        },
        {
          "output_type": "display_data",
          "data": {
            "image/png": "[encoded data removed]",
            "text/plain": [
              "<Figure size 432x288 with 1 Axes>"
            ]
          },
          "metadata": {
            "tags": []
          }
        }
      ]
    },
    {
      "cell_type": "code",
      "metadata": {
        "id": "2j03tsTdq7UE",
        "colab_type": "code",
        "colab": {
          "base_uri": "https://localhost:8080/",
          "height": 71
        },
        "outputId": "0e327182-2f0a-4d50-8505-866a5b0f3797"
      },
      "source": [
        "## fold it to three\n",
        "skfolds = StratifiedKFold(n_splits=3,random_state=42)\n",
        "\n",
        "for train_index,test_index in skfolds.split(x_train_scaler,y_train):\n",
        "  ## skfolds split the trin and test index\n",
        "  \n",
        "  ## split the train data even more\n",
        "  clone_clf = clone(sgd_clf)\n",
        "  x_train_folds = x_train_scaler[train_index]\n",
        "  y_train_folds = (y_train[train_index])  \n",
        "  x_test_folds = x_train_scaler[test_index]  \n",
        "  y_test_folds = (y_train[test_index])\n",
        "  clone_clf.fit(x_train_folds,y_train_folds)\n",
        "  y_pred=clone_clf.predict(x_test_folds)\n",
        "  correct_ans = sum(y_pred==y_test_folds)\n",
        "  print('Percentage accuracy: '+str(float(correct_ans/len(y_pred))))"
      ],
      "execution_count": 26,
      "outputs": [
        {
          "output_type": "stream",
          "text": [
            "Percentage accuracy: 0.8862275449101796\n",
            "Percentage accuracy: 0.887056471764118\n",
            "Percentage accuracy: 0.8952380952380953\n"
          ],
          "name": "stdout"
        }
      ]
    },
    {
      "cell_type": "code",
      "metadata": {
        "id": "PK1GskL9rPEM",
        "colab_type": "code",
        "colab": {
          "base_uri": "https://localhost:8080/",
          "height": 53
        },
        "outputId": "8e65e849-625b-4ded-a9cf-8c115539910f"
      },
      "source": [
        "cross_val_score(sgd_clf,x_train_scaler,y_train,cv=10,scoring='accuracy')"
      ],
      "execution_count": 27,
      "outputs": [
        {
          "output_type": "execute_result",
          "data": {
            "text/plain": [
              "array([0.88797364, 0.89202658, 0.90016639, 0.87666667, 0.9048414 ,\n",
              "       0.88981636, 0.87312187, 0.90317195, 0.91289782, 0.90619765])"
            ]
          },
          "metadata": {
            "tags": []
          },
          "execution_count": 27
        }
      ]
    },
    {
      "cell_type": "code",
      "metadata": {
        "id": "KuvMulV5rZ7h",
        "colab_type": "code",
        "colab": {}
      },
      "source": [
        "cm=confusion_matrix(y_test,pred)"
      ],
      "execution_count": 0,
      "outputs": []
    },
    {
      "cell_type": "code",
      "metadata": {
        "id": "yjpyqzpesDDc",
        "colab_type": "code",
        "colab": {
          "base_uri": "https://localhost:8080/",
          "height": 293
        },
        "outputId": "e606cc0b-230d-40a1-a05c-5395b30c7b3b"
      },
      "source": [
        "plt.matshow(cm,cmap=plt.cm.gray)"
      ],
      "execution_count": 29,
      "outputs": [
        {
          "output_type": "execute_result",
          "data": {
            "text/plain": [
              "<matplotlib.image.AxesImage at 0x7fbd4b68fbe0>"
            ]
          },
          "metadata": {
            "tags": []
          },
          "execution_count": 29
        },
        {
          "output_type": "display_data",
          "data": {
            "image/png": "[encoded data removed]",
            "text/plain": [
              "<Figure size 288x288 with 1 Axes>"
            ]
          },
          "metadata": {
            "tags": []
          }
        }
      ]
    },
    {
      "cell_type": "code",
      "metadata": {
        "id": "Az4tktf1sGy1",
        "colab_type": "code",
        "colab": {}
      },
      "source": [
        "## learning curve to see the result are actually converge\n",
        "from sklearn.metrics import mean_squared_error"
      ],
      "execution_count": 0,
      "outputs": []
    },
    {
      "cell_type": "code",
      "metadata": {
        "id": "PrpgkU-0s2qT",
        "colab_type": "code",
        "colab": {}
      },
      "source": [
        "from sklearn.model_selection import train_test_split\n",
        "def plot_learning_curve(model,x,y):\n",
        "  x_train,x_test,y_train,y_test = train_test_split(x,y)\n",
        "  train_error,test_error=[],[] ## empty list\n",
        "  ## this model willl append data and then test so in the starting it will be bad cause \n",
        "  # less data but we test the test model same ammount of data\n",
        "  for m in range(1,len(x_train)):\n",
        "    model.fit(x_train[:m],y_train[:m])\n",
        "    y_train_predict=model.predict(x_train[:m])\n",
        "    y_test_predict=model.predict(x_test)\n",
        "    train_error.append(mean_squared_error(y_train_predict,y_train[:m]))\n",
        "    test_error.append(mean_squared_error(y_test_predict,y_test))\n",
        "  plt.plot(np.sqrt(train_error),'r-+')\n",
        "  plt.plot(np.sqrt(test_error),'r-+')  "
      ],
      "execution_count": 0,
      "outputs": []
    },
    {
      "cell_type": "code",
      "metadata": {
        "id": "U6BHChCd4BQc",
        "colab_type": "code",
        "colab": {}
      },
      "source": [
        "from sklearn.linear_model import LinearRegression"
      ],
      "execution_count": 0,
      "outputs": []
    },
    {
      "cell_type": "code",
      "metadata": {
        "id": "4wLZHEli4Mfr",
        "colab_type": "code",
        "colab": {}
      },
      "source": [
        "lr = LinearRegression()"
      ],
      "execution_count": 0,
      "outputs": []
    },
    {
      "cell_type": "code",
      "metadata": {
        "id": "rbBUngXB4QCD",
        "colab_type": "code",
        "colab": {
          "base_uri": "https://localhost:8080/",
          "height": 269
        },
        "outputId": "6648620e-b8f1-4f29-a20d-c64ff95d3879"
      },
      "source": [
        "plot_learning_curve(lr,x_test[:500],y_test[:500])"
      ],
      "execution_count": 55,
      "outputs": [
        {
          "output_type": "display_data",
          "data": {
            "image/png": "[encoded data removed]",
            "text/plain": [
              "<Figure size 432x288 with 1 Axes>"
            ]
          },
          "metadata": {
            "tags": []
          }
        }
      ]
    },
    {
      "cell_type": "code",
      "metadata": {
        "id": "Bn7iuBmO4VrH",
        "colab_type": "code",
        "colab": {}
      },
      "source": [
        "## if the data is more the result will bve better"
      ],
      "execution_count": 0,
      "outputs": []
    }
  ]
}